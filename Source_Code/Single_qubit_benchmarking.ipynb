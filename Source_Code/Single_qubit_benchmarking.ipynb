{
 "cells": [
  {
   "cell_type": "code",
   "execution_count": 1,
   "metadata": {},
   "outputs": [],
   "source": [
    "import matplotlib.pyplot as plt\n",
    "import numpy as np\n",
    "import time\n",
    "\n",
    "from itertools import chain, product\n",
    "from functools import reduce\n",
    "\n",
    "from qutip import Options, fidelity, rhs_generate, mesolve\n",
    "from atom_config import rb_atom_config\n",
    "from ketbra_config import rb_atom_ketbras"
   ]
  },
  {
   "cell_type": "code",
   "execution_count": 2,
   "metadata": {},
   "outputs": [],
   "source": [
    "#List the groundstates to be included in the simulation\n",
    "\n",
    "atomStates = {\n",
    "    \"g1M\":0, \"g1\":1, \"g1P\":2, # F=1,mF=-1,0,+1 respectively\n",
    "    \"g2MM\":3, \"g2M\":4, \"g2\":5, \"g2P\":6, \"g2PP\":7 # F=2,mF=-2,..,+2 respectively\n",
    "}\n",
    "\n",
    "# List the excited levels to include in the simulation. the _d1 levels correspond to the D1 line levels, the other levels are by default the d2 levels\n",
    "xlvls = [\n",
    "#'x0',\n",
    "#'x1M','x1','x1P',\n",
    "#'x2MM','x2M','x2','x2P','x2PP',\n",
    "#'x3MMM', 'x3MM','x3M','x3','x3P','x3PP', 'x3PPP',\n",
    "'x1M_d1','x1_d1','x1P_d1',\n",
    "'x2MM_d1','x2M_d1','x2_d1','x2P_d1','x2PP_d1'\n",
    "]\n",
    "\n",
    "#configure the atm state dictionary such that it includes the desired excited states, this includes the desired ground and excited states as arguments, \n",
    "# as well as a boolean for whether to include the photonic Hilbert space\n",
    "\n",
    "kb_class=rb_atom_ketbras(atomStates, xlvls, False)\n",
    "\n",
    "#precompute ketbras for speed\n",
    "ketbras=kb_class.getrb_ketbras()"
   ]
  },
  {
   "cell_type": "code",
   "execution_count": 3,
   "metadata": {},
   "outputs": [],
   "source": [
    "#specify system b field groundstate splitting in MHz\n",
    "bfieldsplit = '15'\n",
    "#configure rb atom with desired CG coefficients and splittings\n",
    "rb_atom = rb_atom_config(bfieldsplit, kb_class)"
   ]
  },
  {
   "cell_type": "code",
   "execution_count": 4,
   "metadata": {},
   "outputs": [],
   "source": [
    "%%capture\n",
    "#configure energy splittings from external CSV file and rb_atom_config class\n",
    "[deltaZ,deltaEx3,deltaEx1,deltaEx0,\\\n",
    "        deltaZx3MMM,\\\n",
    "        deltaZx3MM,deltaZx2MM,\\\n",
    "        deltaZx3M,deltaZx2M,deltaZx1M,\\\n",
    "        deltaZx3,deltaZx2,deltaZx1,deltaZx0,\\\n",
    "        deltaZx3P,deltaZx2P,deltaZx1P,\\\n",
    "        deltaZx3PP,deltaZx2PP,\\\n",
    "        deltaZx3PPP ,\n",
    "        deltaZ_d1,deltaEx1_d1,\\\n",
    "        deltaZx2MM_d1,\\\n",
    "        deltaZx2M_d1,deltaZx1M_d1,\\\n",
    "        deltaZx2_d1,deltaZx1_d1,\\\n",
    "        deltaZx2P_d1,deltaZx1P_d1,\\\n",
    "        deltaZx2PP_d1]=rb_atom.getrb_splittings_couplings()[0]\n",
    "\n",
    "#configure Clebsch Gordan coefficients from external CSV file and atom_state_config class \n",
    "[CGg1Mx3MM, CGg1Mx2MM, \\\n",
    "        CGg1x3M, CGg1x2M, CGg1x1M, CGg1Mx3M, CGg1Mx2M, CGg1Mx1M, \\\n",
    "        CGg1Px3, CGg1Px2, CGg1Px1, CGg1Px0, CGg1x3, CGg1x2, CGg1x1, CGg1x0, CGg1Mx3, CGg1Mx2, CGg1Mx1, CGg1Mx0, \\\n",
    "        CGg1Px3P, CGg1Px2P, CGg1Px1P, CGg1x3P, CGg1x2P, CGg1x1P, \\\n",
    "        CGg1Px3PP,CGg1Px2PP,\n",
    "        CGg2MMx3MMM, \\\n",
    "        CGg2Mx3MM, CGg2Mx2MM, CGg2MMx3MM, CGg2MMx2MM, \\\n",
    "        CGg2x3M, CGg2x2M, CGg2x1M, CGg2Mx3M, CGg2Mx2M, CGg2Mx1M, CGg2MMx3M, CGg2MMx2M, CGg2MMx1M, \\\n",
    "        CGg2Px3, CGg2Px2, CGg2Px1, CGg2Px0, CGg2x3,  CGg2x2, CGg2x1, CGg2x0, CGg2Mx3, CGg2Mx2, CGg2Mx1, CGg2Mx0, \\\n",
    "        CGg2PPx3P, CGg2PPx2P, CGg2PPx1P, CGg2Px3P, CGg2Px2P,  CGg2Px1P, CGg2x3P, CGg2x2P, CGg2x1P, \\\n",
    "        CGg2PPx3PP, CGg2PPx2PP, CGg2Px3PP, CGg2Px2PP, \\\n",
    "        CGg2PPx3PPP,\n",
    "        CG_d1g1Mx2MM, \\\n",
    "        CG_d1g1x2M, CG_d1g1x1M, CG_d1g1Mx2M, CG_d1g1Mx1M, \\\n",
    "        CG_d1g1Px2, CG_d1g1Px1, CG_d1g1x2, CG_d1g1x1,  CG_d1g1Mx2, CG_d1g1Mx1, \\\n",
    "        CG_d1g1Px2P, CG_d1g1Px1P, CG_d1g1x2P, CG_d1g1x1P, \\\n",
    "        CG_d1g1Px2PP,\n",
    "        CG_d1g2Mx2MM, CG_d1g2MMx2MM, \\\n",
    "        CG_d1g2x2M, CG_d1g2x1M,CG_d1g2Mx2M, CG_d1g2Mx1M, CG_d1g2MMx2M, CG_d1g2MMx1M, \\\n",
    "        CG_d1g2Px2, CG_d1g2Px1,CG_d1g2x2, CG_d1g2x1, CG_d1g2Mx2, CG_d1g2Mx1,  \\\n",
    "        CG_d1g2PPx2P, CG_d1g2PPx1P, CG_d1g2Px2P,  CG_d1g2Px1P, CG_d1g2x2P, CG_d1g2x1P, \\\n",
    "        CG_d1g2PPx2PP, CG_d1g2Px2PP] = rb_atom.getrb_splittings_couplings()[1]\n",
    "\n",
    "# List the coupling rates of the system.\n",
    "#   gamma:  Decay of the atomic amplitude listed for d1 and d2 transitions.\n",
    "# d: Dipole moment of either d1 or d2 transition\n",
    "[gamma_d2,gamma_d1,d_d2,d_d1] = rb_atom.getrb_rates()"
   ]
  },
  {
   "cell_type": "code",
   "execution_count": 5,
   "metadata": {},
   "outputs": [
    {
     "data": {
      "image/png": "[encoded data removed]",
      "text/plain": [
       "<Figure size 300x200 with 1 Axes>"
      ]
     },
     "metadata": {},
     "output_type": "display_data"
    }
   ],
   "source": [
    "######For STIRAP Repreparation visualize the pulse shapes#####\n",
    "\n",
    "#Define the repumping pulse parameters for special masked pulse shapes\n",
    "#A*CG... - peak rabi frequency of the pulses\n",
    "A_rep = 78\n",
    "#make sure to add CG\n",
    "[A_p,A_s] = [abs(x)*2*np.pi for x in [A_rep/CG_d1g2x1M,A_rep/CG_d1g1x1M]]\n",
    "lengthGate=1\n",
    "#dont start at 0 because otherwise the function is undefined at t=0\n",
    "tGate,tGateStep = np.linspace(10**(-10), lengthGate, 50, retstep=True)\n",
    "\n",
    "a=20\n",
    "n=4\n",
    "c=0.36\n",
    "def stokes_shape_plot(t,T):\n",
    "    return (np.exp(-((t - (T/2))/c)**(2*n))*np.cos(np.pi/2*(1/(1 + np.exp((-a*(t - T/2))/T)))))\n",
    "def shape_pump_plot(t,T):\n",
    "    return (np.exp(-((t - (T/2))/c)**(2*n))*np.sin(np.pi/2*(1/(1 + np.exp((-a*(t - T/2))/T)))))\n",
    "                                                                                                                        \n",
    "f, a1 = plt.subplots(figsize=(3, 2))\n",
    "a1.plot(tGate, [A_s*stokes_shape_plot(x, lengthGate) for x in tGate], 'b',label='$\\Omega_S(t)$')\n",
    "a1.plot(tGate, [A_p*shape_pump_plot(x, lengthGate) for x in tGate], 'r',label='$\\Omega_P(t)$')\n",
    "a1.legend(loc=2)\n",
    "f.patch.set_facecolor('white')"
   ]
  },
  {
   "cell_type": "code",
   "execution_count": 6,
   "metadata": {},
   "outputs": [],
   "source": [
    "\n",
    "stokes_amp_array=[A_s*stokes_shape_plot(x, lengthGate) for x in tGate]\n",
    "pump_amp_array=[A_p*shape_pump_plot(x, lengthGate) for x in tGate]"
   ]
  },
  {
   "cell_type": "code",
   "execution_count": 7,
   "metadata": {},
   "outputs": [],
   "source": [
    "#Constructing a SITRAP repumping Hamiltonian in accordance to the gen_H_Pulse function specified in rb_atom_config\n",
    "#Define the arguments of the driving pulse in dictionary form and the driving pulse shape in form of a string,\n",
    "#                                           which can be interpreted by cython with standards numpy commands, as well as the dictionary created\n",
    "#additionally one needs to define the desired levels addressed by the STIRAP repumping transitions\n",
    "\n",
    "#args_repump = dict([('n',n), ('c',c), ('a',a),('T', lengthRepump), ])\n",
    "\n",
    "#pump_shape='np.exp(-((t - (T/2))/c)**(2*n))*np.sin(np.pi/2*(1/(1 + np.exp((-a*(t - T/2))/T))))'\n",
    "#stokes_shape='np.exp(-((t - (T/2))/c)**(2*n))*np.cos(np.pi/2*(1/(1 + np.exp((-a*(t - T/2))/T))))'\n",
    "delta_sti=-3000*2*np.pi\n",
    "F_pump_start=2\n",
    "F_pump_exc=1\n",
    "F_stokes_start=1\n",
    "F_stokes_exc=1\n",
    "\n",
    "stokes_pol='sigmaM'\n",
    "pump_pol='sigmaM'\n",
    "\n",
    "H_Stirap_Stokes=rb_atom.gen_H_Pulse_D1(ketbras, atomStates, delta_sti,F_stokes_start,F_stokes_exc,stokes_pol,A_s, {},_array=True, _amp=stokes_amp_array, _t=tGate)\n",
    "H_Stirap_Pump= rb_atom.gen_H_Pulse_D1(ketbras, atomStates, delta_sti,F_pump_start,F_pump_exc,pump_pol,A_p,{},_array=True,_amp=pump_amp_array, _t=tGate )\n",
    "\n",
    "H_Gate =  list(chain(*[H_Stirap_Stokes[0], H_Stirap_Pump[0]]))\n",
    "args_hams_Gate= {**H_Stirap_Stokes[1], **H_Stirap_Pump[1]}"
   ]
  },
  {
   "cell_type": "code",
   "execution_count": 12,
   "metadata": {},
   "outputs": [
    {
     "name": "stdout",
     "output_type": "stream",
     "text": [
      "Hamiltonian 'H_Gate': states pre-computed in in 0.06317448616027832 seconds\n"
     ]
    }
   ],
   "source": [
    "# A list of Hamiltonians to pre-compile in the form:\n",
    "#    (Cythonised Hamiltonian, arguement dictionary, compiled file name)\n",
    "H_list = [\n",
    "    (H_Gate, args_hams_Gate, 'H_Gate')\n",
    "]\n",
    "\n",
    "#define list of collapse operators\n",
    "c_op_list=[]\n",
    "\n",
    "#by default we are adding the collapse operators for both the d2 and d1 line, but comment out either if only one is desired\n",
    "#c_op_list += rb_atom.spont_em_ops(atomStates)[0] #d2 line\n",
    "c_op_list+=rb_atom.spont_em_ops(atomStates)[1] #d1 line\n",
    "\n",
    "H_rhs_compiled=[]\n",
    "\n",
    "for H, args, label in H_list:\n",
    "    t_start = time.time()\n",
    "    rhs_generate(H, c_op_list, args=args, name=label, cleanup=False)\n",
    "    H_rhs_compiled.append(H)\n",
    "    print('Hamiltonian \\'{0}\\': states pre-computed in in {1} seconds'.format(label, time.time()-t_start))"
   ]
  },
  {
   "cell_type": "code",
   "execution_count": 13,
   "metadata": {},
   "outputs": [],
   "source": [
    "'''\n",
    "Set up simulations\n",
    "'''\n",
    "#define length of each Hamiltonian, it might be interesting to pick a length longer than the individual pulse duration to consider the effect of non-unitary losses\n",
    "\n",
    "psi0 = kb_class.get_ket_atomic('g2') # Initial state of the system in array format with dictionary, atomic state (atomStates, 'atomic state')\n",
    "n_Cycles = 1 # Number of times to apply the sequence of actions defined in H_list\n",
    "\n",
    "# The actions to apply in terms of a list of the form\n",
    "#      (Cythonised Hamiltonian,\n",
    "#       list of time steps,\n",
    "#       argument dictionary,\n",
    "#       compiled file name)\n",
    "H_list = [\n",
    "    (H_Gate,tGate, args_hams_Gate, 'H_Gate')\n",
    "    ]\n",
    "\n",
    "for H_info in H_list:\n",
    "    if H_info[0] not in H_rhs_compiled:  print( \n",
    "      'WARNING: The Hamiltonian does not match the form of the \\\n",
    "      Hamiltonian pre-complied to Cython by Qutip.\\n \\\n",
    "      Consider re-running the \\'rhs_generate(...)\\' function (i.e. the above cell hopefully)'\n",
    "      )\n"
   ]
  },
  {
   "cell_type": "code",
   "execution_count": 14,
   "metadata": {},
   "outputs": [
    {
     "ename": "Exception",
     "evalue": "ODE integration error: Try to increase the allowed number of substeps by increasing the nsteps parameter in the Options class.",
     "output_type": "error",
     "traceback": [
      "\u001b[0;31m---------------------------------------------------------------------------\u001b[0m",
      "\u001b[0;31mException\u001b[0m                                 Traceback (most recent call last)",
      "\u001b[1;32m/home/janole/control/rb_benchmarking/Source_Code/Single_qubit_benchmarking.ipynb Cell 10\u001b[0m line \u001b[0;36m1\n\u001b[1;32m     <a href='vscode-notebook-cell://wsl%2Bubuntu-20.04/home/janole/control/rb_benchmarking/Source_Code/Single_qubit_benchmarking.ipynb#X13sdnNjb2RlLXJlbW90ZQ%3D%3D?line=13'>14</a>\u001b[0m opts \u001b[39m=\u001b[39m Options(rhs_reuse\u001b[39m=\u001b[39m\u001b[39mFalse\u001b[39;00m,rhs_filename\u001b[39m=\u001b[39mlabel)\n\u001b[1;32m     <a href='vscode-notebook-cell://wsl%2Bubuntu-20.04/home/janole/control/rb_benchmarking/Source_Code/Single_qubit_benchmarking.ipynb#X13sdnNjb2RlLXJlbW90ZQ%3D%3D?line=14'>15</a>\u001b[0m t_start \u001b[39m=\u001b[39m time\u001b[39m.\u001b[39mtime()\n\u001b[0;32m---> <a href='vscode-notebook-cell://wsl%2Bubuntu-20.04/home/janole/control/rb_benchmarking/Source_Code/Single_qubit_benchmarking.ipynb#X13sdnNjb2RlLXJlbW90ZQ%3D%3D?line=16'>17</a>\u001b[0m output \u001b[39m=\u001b[39m mesolve(H, psi0, t, c_op_list, [], args\u001b[39m=\u001b[39;49margs, options\u001b[39m=\u001b[39;49mopts)\n\u001b[1;32m     <a href='vscode-notebook-cell://wsl%2Bubuntu-20.04/home/janole/control/rb_benchmarking/Source_Code/Single_qubit_benchmarking.ipynb#X13sdnNjb2RlLXJlbW90ZQ%3D%3D?line=18'>19</a>\u001b[0m i\u001b[39m+\u001b[39m\u001b[39m=\u001b[39m\u001b[39m1\u001b[39m\n\u001b[1;32m     <a href='vscode-notebook-cell://wsl%2Bubuntu-20.04/home/janole/control/rb_benchmarking/Source_Code/Single_qubit_benchmarking.ipynb#X13sdnNjb2RlLXJlbW90ZQ%3D%3D?line=19'>20</a>\u001b[0m \u001b[39mprint\u001b[39m(\u001b[39m'\u001b[39m\u001b[39mSimulation \u001b[39m\u001b[39m{0}\u001b[39;00m\u001b[39m/\u001b[39m\u001b[39m{1}\u001b[39;00m\u001b[39m with \u001b[39m\u001b[39m{2}\u001b[39;00m\u001b[39m timesteps completed in \u001b[39m\u001b[39m{3}\u001b[39;00m\u001b[39m seconds\u001b[39m\u001b[39m'\u001b[39m\u001b[39m.\u001b[39mformat(\n\u001b[1;32m     <a href='vscode-notebook-cell://wsl%2Bubuntu-20.04/home/janole/control/rb_benchmarking/Source_Code/Single_qubit_benchmarking.ipynb#X13sdnNjb2RlLXJlbW90ZQ%3D%3D?line=20'>21</a>\u001b[0m         i, n_hams, t\u001b[39m.\u001b[39msize,np\u001b[39m.\u001b[39mround(time\u001b[39m.\u001b[39mtime()\u001b[39m-\u001b[39mt_start,\u001b[39m3\u001b[39m) ))\n",
      "File \u001b[0;32m~/control/rb_benchmarking/.venv/lib/python3.8/site-packages/qutip/mesolve.py:244\u001b[0m, in \u001b[0;36mmesolve\u001b[0;34m(H, rho0, tlist, c_ops, e_ops, args, options, progress_bar, _safe_mode)\u001b[0m\n\u001b[1;32m    241\u001b[0m     v \u001b[39m=\u001b[39m rho0\u001b[39m.\u001b[39mfull()\u001b[39m.\u001b[39mravel(\u001b[39m'\u001b[39m\u001b[39mF\u001b[39m\u001b[39m'\u001b[39m)\n\u001b[1;32m    242\u001b[0m     func(\u001b[39m0.\u001b[39m, v, \u001b[39m*\u001b[39mode_args) \u001b[39m+\u001b[39m v\n\u001b[0;32m--> 244\u001b[0m res \u001b[39m=\u001b[39m _generic_ode_solve(func, ode_args, rho0, tlist, e_ops, options,\n\u001b[1;32m    245\u001b[0m                          progress_bar, dims\u001b[39m=\u001b[39;49mrho0\u001b[39m.\u001b[39;49mdims)\n\u001b[1;32m    246\u001b[0m res\u001b[39m.\u001b[39mnum_collapse \u001b[39m=\u001b[39m \u001b[39mlen\u001b[39m(c_ops)\n\u001b[1;32m    248\u001b[0m \u001b[39mif\u001b[39;00m e_ops_dict:\n",
      "File \u001b[0;32m~/control/rb_benchmarking/.venv/lib/python3.8/site-packages/qutip/mesolve.py:496\u001b[0m, in \u001b[0;36m_generic_ode_solve\u001b[0;34m(func, ode_args, rho0, tlist, e_ops, opt, progress_bar, dims)\u001b[0m\n\u001b[1;32m    493\u001b[0m progress_bar\u001b[39m.\u001b[39mupdate(t_idx)\n\u001b[1;32m    495\u001b[0m \u001b[39mif\u001b[39;00m \u001b[39mnot\u001b[39;00m r\u001b[39m.\u001b[39msuccessful():\n\u001b[0;32m--> 496\u001b[0m     \u001b[39mraise\u001b[39;00m \u001b[39mException\u001b[39;00m(\u001b[39m\"\u001b[39m\u001b[39mODE integration error: Try to increase \u001b[39m\u001b[39m\"\u001b[39m\n\u001b[1;32m    497\u001b[0m                     \u001b[39m\"\u001b[39m\u001b[39mthe allowed number of substeps by increasing \u001b[39m\u001b[39m\"\u001b[39m\n\u001b[1;32m    498\u001b[0m                     \u001b[39m\"\u001b[39m\u001b[39mthe nsteps parameter in the Options class.\u001b[39m\u001b[39m\"\u001b[39m)\n\u001b[1;32m    500\u001b[0m \u001b[39mif\u001b[39;00m opt\u001b[39m.\u001b[39mstore_states \u001b[39mor\u001b[39;00m expt_callback:\n\u001b[1;32m    501\u001b[0m     cdata \u001b[39m=\u001b[39m get_curr_state_data(r)\n",
      "\u001b[0;31mException\u001b[0m: ODE integration error: Try to increase the allowed number of substeps by increasing the nsteps parameter in the Options class."
     ]
    }
   ],
   "source": [
    "'''\n",
    "Perform simulation\n",
    "'''\n",
    "#desired final state\n",
    "psi_des=kb_class.get_ket_atomic('g1')\n",
    "\n",
    "#we return the density operators after each simulation run for each timestep in the simulation and save it in a list called output states list\n",
    "\n",
    "i, n_hams = 0, len(H_list)*n_Cycles\n",
    "output_states_list = []\n",
    "t_list = []\n",
    "for H, t, args, label in H_list*n_Cycles:\n",
    "\n",
    "    opts = Options(rhs_reuse=False,rhs_filename=label)\n",
    "    t_start = time.time()\n",
    "    \n",
    "    output = mesolve(H, psi0, t, c_op_list, [], args=args, options=opts)\n",
    "    \n",
    "    i+=1\n",
    "    print('Simulation {0}/{1} with {2} timesteps completed in {3} seconds'.format(\n",
    "            i, n_hams, t.size,np.round(time.time()-t_start,3) ))\n",
    "    \n",
    "    output_states_list.append(output.states)\n",
    "    t_list.append(t)\n",
    "\n",
    "    psif=kb_class.recompute_psi(ketbras, output.states[-1])\n",
    "    print(\"Gate Fidelity is:{}\".format(fidelity(psif,psi_des)))\n",
    "\n",
    "    "
   ]
  },
  {
   "cell_type": "code",
   "execution_count": null,
   "metadata": {},
   "outputs": [],
   "source": [
    "#pick the index of the Hamiltonian simulation you want to plot\n",
    "ham_index=0\n",
    "plot_output=output_states_list[ham_index]\n",
    "plot_timelist=t_list[ham_index]\n",
    "\n",
    "#plotting the results\n",
    "#all plotting function require the following 4 arguments:\n",
    "#ketbras: the configured ketbras of the system\n",
    "#atomStates: the atomic groundstates of the system\n",
    "#plot_output: the ouquantum object list outputted by the simulation\n",
    "#plot_timelist: the list of timesteps for which the simulation was run\n",
    "    #plotter_spontdecay_channels requires no additional arguments\n",
    "    #plotter_atomstate_population requires a Boolean as to whether to include the excited state population relevant for the D1 transitions\n",
    "\n",
    "\n",
    "rb_atom.plotter_spontdecay_channels( atomStates, plot_output,plot_timelist)\n",
    "rb_atom.plotter_atomstate_population(ketbras, plot_output,plot_timelist, True)"
   ]
  }
 ],
 "metadata": {
  "kernelspec": {
   "display_name": ".venv",
   "language": "python",
   "name": "python3"
  },
  "language_info": {
   "codemirror_mode": {
    "name": "ipython",
    "version": 3
   },
   "file_extension": ".py",
   "mimetype": "text/x-python",
   "name": "python",
   "nbconvert_exporter": "python",
   "pygments_lexer": "ipython3",
   "version": "3.8.10"
  }
 },
 "nbformat": 4,
 "nbformat_minor": 2
}
